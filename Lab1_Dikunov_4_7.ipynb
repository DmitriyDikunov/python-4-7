{
  "nbformat": 4,
  "nbformat_minor": 0,
  "metadata": {
    "colab": {
      "provenance": [],
      "authorship_tag": "ABX9TyNkVlgFV8TJID+4rtgh0LZO",
      "include_colab_link": true
    },
    "kernelspec": {
      "name": "python3",
      "display_name": "Python 3"
    },
    "language_info": {
      "name": "python"
    }
  },
  "cells": [
    {
      "cell_type": "markdown",
      "metadata": {
        "id": "view-in-github",
        "colab_type": "text"
      },
      "source": [
        "<a href=\"https://colab.research.google.com/github/DmitriyDikunov/python-4-7/blob/main/Lab1_Dikunov_4_7.ipynb\" target=\"_parent\"><img src=\"https://colab.research.google.com/assets/colab-badge.svg\" alt=\"Open In Colab\"/></a>"
      ]
    },
    {
      "cell_type": "code",
      "execution_count": null,
      "metadata": {
        "colab": {
          "base_uri": "https://localhost:8080/"
        },
        "id": "wZDzcK1VMx4A",
        "outputId": "6464c9df-a686-4b16-e15c-decb58b7034c"
      },
      "outputs": [
        {
          "output_type": "stream",
          "name": "stdout",
          "text": [
            "[30, 28, 26, 24, 22, 20, 18, 16, 14, 12, 10, 8, 6, 4, 2, 0]\n"
          ]
        }
      ],
      "source": [
        "#Завдання 1  8. Створіть одновимірний масив (вектор) зі спадаючою послідовністю чисел, де кожне наступне число менше попереднього на 2, починаючи з 30, та виведіть його значення.\n",
        "list = []\n",
        "for i in range(0,31,2):\n",
        "    list.append(i)\n",
        "list = list [::-1]\n",
        "print(list)"
      ]
    },
    {
      "cell_type": "code",
      "source": [
        "#Завдання 2 8. Створіть двовимірний масив (матрицю) розміром 3x3, заповніть його значеннями факторіалів натуральних чисел, починаючи з 1, та виведіть його значення\n",
        "import numpy as np\n",
        "from math import factorial\n",
        "matrix = np.zeros((3, 3), dtype=int)\n",
        "num = 1\n",
        "for i in range(3):\n",
        "    for j in range(3):\n",
        "        matrix[i][j] = factorial(num)\n",
        "        num += 1\n",
        "print(matrix)"
      ],
      "metadata": {
        "colab": {
          "base_uri": "https://localhost:8080/"
        },
        "id": "75w--3q7NiIS",
        "outputId": "c8beaa2a-74e2-4838-a1fe-76451c16a390"
      },
      "execution_count": null,
      "outputs": [
        {
          "output_type": "stream",
          "name": "stdout",
          "text": [
            "[[     1      2      6]\n",
            " [    24    120    720]\n",
            " [  5040  40320 362880]]\n"
          ]
        }
      ]
    },
    {
      "cell_type": "code",
      "source": [
        "#Завдання 3 8. Створіть масив розміром 4x4, заповніть його випадковими цілими числами від 1 до 10 та виведіть його значення\n",
        "import random\n",
        "list = []\n",
        "for i in range(4):\n",
        "    row = []\n",
        "    for j in range(4):\n",
        "       row.append(random.randint(1, 10))\n",
        "    list.append(row)\n",
        "print(list)"
      ],
      "metadata": {
        "colab": {
          "base_uri": "https://localhost:8080/"
        },
        "id": "O9Y6B9iiRSpI",
        "outputId": "9fde8cb4-d5ab-430e-ea08-2770b50fb3bc"
      },
      "execution_count": null,
      "outputs": [
        {
          "output_type": "stream",
          "name": "stdout",
          "text": [
            "[[8, 1, 2, 4], [3, 4, 1, 1], [8, 4, 7, 3], [3, 2, 8, 4]]\n"
          ]
        }
      ]
    },
    {
      "cell_type": "code",
      "source": [
        "#Завдання 4 8. Створіть масив розміром 6x6, заповніть його випадковими дійсними числами в діапазоні від 0 до 1 та обчисліть суму всіх діагональних елементів\n",
        "import numpy as np\n",
        "array = np.random.rand(6, 6)\n",
        "array = np.round(array, 1)\n",
        "diagonal_sum = np.trace(array)\n",
        "print(array, diagonal_sum, sep ='\\n')"
      ],
      "metadata": {
        "colab": {
          "base_uri": "https://localhost:8080/"
        },
        "id": "s2nKwT9IS4Ej",
        "outputId": "87f4bf4b-8cbf-4869-8bed-73fbb7581a69"
      },
      "execution_count": null,
      "outputs": [
        {
          "output_type": "stream",
          "name": "stdout",
          "text": [
            "[[0.8 0.6 0.9 0.4 0.2 0.6]\n",
            " [0.1 0.3 0.2 0.9 0.6 0.8]\n",
            " [0.2 0.3 0.2 0.9 0.4 0.3]\n",
            " [0.5 0.2 1.  0.5 0.5 1. ]\n",
            " [0.7 0.1 0.8 0.9 0.5 0.7]\n",
            " [0.4 0.1 0.1 0.3 0.7 0.4]]\n",
            "2.6999999999999997\n"
          ]
        }
      ]
    },
    {
      "cell_type": "code",
      "source": [
        "#Завдання 5 8. Створіть два одновимірних масиви розміром 4, заповніть їх випадковими дійсними числами від -10 до 10 та виконайте на них поелементні операції додавання, віднімання та множення.\n",
        "import random\n",
        "list_1 = []\n",
        "list_2 = []\n",
        "sum_list = []\n",
        "minus_list = []\n",
        "mult_list = []\n",
        "for i in range(4):\n",
        "    list_1.append(random.randint(-10,10))\n",
        "    list_2.append(random.randint(-10, 10))\n",
        "for i in range(len(list_1)):\n",
        "    sum_list.append(list_1[i] + list_2[i])\n",
        "for i in range(len(list_1)):\n",
        "    minus_list.append(list_1[i] - list_2[i])\n",
        "for i in range(len(list_1)):\n",
        "    mult_list.append(list_1[i] * list_2[i])\n",
        "print(f'Сума = {sum_list}',f'Віднімання = {minus_list}',f'Множення = {mult_list}', sep='\\n')"
      ],
      "metadata": {
        "id": "qtL8bbYBY9Av",
        "colab": {
          "base_uri": "https://localhost:8080/"
        },
        "outputId": "746e1c31-4f56-4a58-8a61-55c17dfc3f8d"
      },
      "execution_count": 6,
      "outputs": [
        {
          "output_type": "stream",
          "name": "stdout",
          "text": [
            "Сума = [-5, 10, 8, -10]\n",
            "Віднімання = [1, 4, 4, 4]\n",
            "Множення = [6, 21, 12, 21]\n"
          ]
        }
      ]
    },
    {
      "cell_type": "code",
      "source": [
        "#Завдання 6 8. Створіть дві матриці 4x4, заповніть їх довільними цілими числами від 1 до 5 та знайдіть їх добуток\n",
        "import numpy as np\n",
        "matrix_1 = np.random.randint(1, 6, (4, 4))\n",
        "matrix_2 = np.random.randint(1, 6, (4, 4))\n",
        "result_matrix = np.dot(matrix_1, matrix_2)\n",
        "print(matrix_1)\n",
        "print(matrix_2)\n",
        "print(\"Результат множення матриць\",result_matrix, sep='\\n')"
      ],
      "metadata": {
        "id": "Vhm1lR6DcmkW",
        "colab": {
          "base_uri": "https://localhost:8080/"
        },
        "outputId": "6ce61917-18c2-445d-dfe4-d4588d2e5c4e"
      },
      "execution_count": 5,
      "outputs": [
        {
          "output_type": "stream",
          "name": "stdout",
          "text": [
            "[[1 5 2 1]\n",
            " [2 1 2 3]\n",
            " [3 4 1 2]\n",
            " [5 2 4 5]]\n",
            "[[2 5 2 5]\n",
            " [3 4 1 1]\n",
            " [1 2 1 2]\n",
            " [5 2 1 2]]\n",
            "Результат множення матриць\n",
            "[[24 31 10 16]\n",
            " [24 24 10 21]\n",
            " [29 37 13 25]\n",
            " [45 51 21 45]]\n"
          ]
        }
      ]
    },
    {
      "cell_type": "code",
      "source": [
        "#Завдання 7 8. Створіть дві матриці розміром 2x3 та 3x3, заповніть їх випадковими цілими числами в діапазоні від 1 до 4 та перемножте їх між собою\n",
        "import numpy as np\n",
        "matrix_1 = np.random.randint(1, 5, (2, 3))\n",
        "matrix_2 = np.random.randint(1, 5, (3, 3))\n",
        "result_matrix = np.dot(matrix_1, matrix_2)\n",
        "print(\"Матриця 1:\",matrix_1, sep='\\n')\n",
        "print(\"Матриця 2 \",matrix_2, sep='\\n')\n",
        "print(\"Результат множення матриць\",result_matrix, sep='\\n')"
      ],
      "metadata": {
        "id": "4RvStlZmeAfo",
        "colab": {
          "base_uri": "https://localhost:8080/"
        },
        "outputId": "d88af0d8-a265-4ad7-d8a1-3b8f196e61ad"
      },
      "execution_count": 7,
      "outputs": [
        {
          "output_type": "stream",
          "name": "stdout",
          "text": [
            "Матриця 1:\n",
            "[[1 1 4]\n",
            " [4 4 3]]\n",
            "Матриця 2 \n",
            "[[2 2 4]\n",
            " [2 3 4]\n",
            " [3 1 3]]\n",
            "Результат множення матриць\n",
            "[[16  9 20]\n",
            " [25 23 41]]\n"
          ]
        }
      ]
    },
    {
      "cell_type": "code",
      "source": [
        "#Завдання 8 8. Створіть матрицю розміром 3x3, заповніть її випадковими цілими числами в діапазоні від 1 до 7 та знайдіть її обернену матрицю\n",
        "import numpy as np\n",
        "matrix = np.random.randint(1, 8, (3, 3))\n",
        "det = np.linalg.det(matrix)\n",
        "if det != 0:\n",
        "    inverse_matrix = np.linalg.inv(matrix)\n",
        "    print(\"Оригінальна матриця\")\n",
        "    print(matrix)\n",
        "    print(\"\\nОбернена матриця:\")\n",
        "    print(inverse_matrix)\n",
        "else:\n",
        "    print(\"Матриця не має оберненої\")\n"
      ],
      "metadata": {
        "id": "jiSiyX2Fi4gK",
        "colab": {
          "base_uri": "https://localhost:8080/"
        },
        "outputId": "e892c385-fc62-4241-9500-4a6eaae6c865"
      },
      "execution_count": null,
      "outputs": [
        {
          "output_type": "stream",
          "name": "stdout",
          "text": [
            "Оригінальна матриця\n",
            "[[4 5 3]\n",
            " [7 4 7]\n",
            " [3 6 2]]\n",
            "\n",
            "Обернена матриця:\n",
            "[[ 3.09090909 -0.72727273 -2.09090909]\n",
            " [-0.63636364  0.09090909  0.63636364]\n",
            " [-2.72727273  0.81818182  1.72727273]]\n"
          ]
        }
      ]
    },
    {
      "cell_type": "code",
      "source": [
        "#Завдання 9 8.Створіть матрицю розміром 5x5, заповніть її випадковими дійсними числами в діапазоні від -5 до 5 та транспонуйте її.\n",
        "import numpy as np\n",
        "matrix = np.random.uniform(-5, 5, (5, 5))\n",
        "transposed_matrix = np.transpose(matrix)\n",
        "print(\"Оригінальна матриця\", matrix, sep = '\\n')\n",
        "print(\"Транспонована\", transposed_matrix, sep = '\\n')"
      ],
      "metadata": {
        "colab": {
          "base_uri": "https://localhost:8080/"
        },
        "id": "iJjZZlaNU_JP",
        "outputId": "68b5472a-ad3c-4b01-ba9b-a7409cfafd7c"
      },
      "execution_count": 3,
      "outputs": [
        {
          "output_type": "stream",
          "name": "stdout",
          "text": [
            "Оригінальна матриця\n",
            "[[ 0.53201951 -3.36873724 -0.3086723  -4.26746478 -4.33752535]\n",
            " [ 1.56841644  3.22661873  4.58333649 -3.48917305  1.72184285]\n",
            " [ 1.60178436 -4.52581107  4.70124688  0.06480278  2.41036974]\n",
            " [-3.98858279 -2.46741826 -1.63438875 -1.60878532 -4.88135841]\n",
            " [-0.03488552  4.47321772  1.3864401   1.29395369  3.98041218]]\n",
            "Транспонована\n",
            "[[ 0.53201951  1.56841644  1.60178436 -3.98858279 -0.03488552]\n",
            " [-3.36873724  3.22661873 -4.52581107 -2.46741826  4.47321772]\n",
            " [-0.3086723   4.58333649  4.70124688 -1.63438875  1.3864401 ]\n",
            " [-4.26746478 -3.48917305  0.06480278 -1.60878532  1.29395369]\n",
            " [-4.33752535  1.72184285  2.41036974 -4.88135841  3.98041218]]\n"
          ]
        }
      ]
    },
    {
      "cell_type": "code",
      "source": [
        "#Завдання 10 Створіть матрицю розміром 3x4 та вектор розміром 4x1, заповніть матрицю випадковими цілими числами в діапазоні від 1 до 10, а вектор - випадковими дійсними\n",
        "#числами від 0 до 1 і знайдіть добуток матриці на вектор.\n",
        "import numpy as np\n",
        "matrix = np.random.randint(1, 11, (3, 4))\n",
        "vector = np.random.uniform(0, 1, (4, 1))\n",
        "result = np.dot(matrix, vector)\n",
        "print(\"3x4\", matrix, sep = '\\n')\n",
        "print(\"4x1\",vector, sep = '\\n')\n",
        "print(\"Результат\",result, sep = '\\n')"
      ],
      "metadata": {
        "colab": {
          "base_uri": "https://localhost:8080/"
        },
        "id": "fhRKHT53Vxgs",
        "outputId": "4528307e-b88a-4366-a936-1333d9da8ec1"
      },
      "execution_count": 4,
      "outputs": [
        {
          "output_type": "stream",
          "name": "stdout",
          "text": [
            "3x4\n",
            "[[ 2  7  9  7]\n",
            " [ 1  2 10  4]\n",
            " [ 9  3 10  6]]\n",
            "4x1\n",
            "[[0.4549909 ]\n",
            " [0.0510683 ]\n",
            " [0.00651573]\n",
            " [0.93562601]]\n",
            "Результат\n",
            "[[7.87548352]\n",
            " [4.36478885]\n",
            " [9.92703634]]\n"
          ]
        }
      ]
    },
    {
      "cell_type": "code",
      "source": [
        "#Завдання 11 Створіть матрицю розміром 2x3 та вектор розміром 3x1, заповніть матрицю випадковими дійсними числами від 0 до 1, а вектор - випадковими дійсними числами\n",
        "#від 0 до 1, і знайдіть добуток матриці на вектор\n",
        "import numpy as np\n",
        "matrix = np.random.uniform(0, 1, (2, 3))\n",
        "vector = np.random.uniform(0, 1, (3, 1))\n",
        "result = np.dot(matrix, vector)\n",
        "print(matrix)\n",
        "print(vector)\n",
        "print(result)"
      ],
      "metadata": {
        "colab": {
          "base_uri": "https://localhost:8080/"
        },
        "id": "JIaBW2q0Wa0K",
        "outputId": "5c1c9223-b451-437e-885f-6d57eb9ab22a"
      },
      "execution_count": 8,
      "outputs": [
        {
          "output_type": "stream",
          "name": "stdout",
          "text": [
            "[[0.58212448 0.24197328 0.3481806 ]\n",
            " [0.36555294 0.00315941 0.92698781]]\n",
            "[[0.51043071]\n",
            " [0.40763307]\n",
            " [0.78001779]]\n",
            "[[0.66735758]\n",
            " [0.9109443 ]]\n"
          ]
        }
      ]
    },
    {
      "cell_type": "code",
      "source": [
        "#Завдання 12 Створіть дві матриці розміром 9x9, заповніть їх випадковими цілими числами в діапазоні від 1 до 10 та знайдіть відношення елементів другої матриці до першої\n",
        "#(поелементне ділення)\n",
        "import numpy as np\n",
        "matrix_1 = np.random.randint(1, 11, (9, 9))\n",
        "matrix_2 = np.random.randint(1, 11, (9, 9))\n",
        "result = matrix_2 / matrix_1\n",
        "print(matrix_1)\n",
        "print(matrix_2)\n",
        "print(result)\n"
      ],
      "metadata": {
        "colab": {
          "base_uri": "https://localhost:8080/"
        },
        "id": "WEIb-J9CW6rY",
        "outputId": "8c371cf8-efb4-4581-ea25-d22b5cf832d8"
      },
      "execution_count": 9,
      "outputs": [
        {
          "output_type": "stream",
          "name": "stdout",
          "text": [
            "[[ 5  4  1  5  9  1  9  4  1]\n",
            " [ 7  4  9  1  9  9  1  7  6]\n",
            " [10  4  1  6  8  7  2  9  8]\n",
            " [ 5  2  7  1 10  1  8 10 10]\n",
            " [ 3  7  4  9  6 10  5  6  4]\n",
            " [ 8  2  2  3  8  6  4  3  9]\n",
            " [ 2  5  2  9  7  6  8  6  4]\n",
            " [ 8  6  6  5 10  3  7  7  8]\n",
            " [ 1  5  4  5  8  2  4  9  6]]\n",
            "[[ 7 10  1  8  5  5  8  2  6]\n",
            " [ 9  9  3  5  6  8  9  4 10]\n",
            " [ 7  8  9  1  8  2  5  1  4]\n",
            " [10  9  6  1 10  2  4  1  5]\n",
            " [ 2 10 10  4 10  4  8  4  1]\n",
            " [ 9  1  8  4  3  3  8  2  9]\n",
            " [10  2  4  6 10  9  3  1  4]\n",
            " [ 1  9  8  6  7  2  1  7  9]\n",
            " [ 9 10  7  6  9  9  7  3  1]]\n",
            "[[1.4        2.5        1.         1.6        0.55555556 5.\n",
            "  0.88888889 0.5        6.        ]\n",
            " [1.28571429 2.25       0.33333333 5.         0.66666667 0.88888889\n",
            "  9.         0.57142857 1.66666667]\n",
            " [0.7        2.         9.         0.16666667 1.         0.28571429\n",
            "  2.5        0.11111111 0.5       ]\n",
            " [2.         4.5        0.85714286 1.         1.         2.\n",
            "  0.5        0.1        0.5       ]\n",
            " [0.66666667 1.42857143 2.5        0.44444444 1.66666667 0.4\n",
            "  1.6        0.66666667 0.25      ]\n",
            " [1.125      0.5        4.         1.33333333 0.375      0.5\n",
            "  2.         0.66666667 1.        ]\n",
            " [5.         0.4        2.         0.66666667 1.42857143 1.5\n",
            "  0.375      0.16666667 1.        ]\n",
            " [0.125      1.5        1.33333333 1.2        0.7        0.66666667\n",
            "  0.14285714 1.         1.125     ]\n",
            " [9.         2.         1.75       1.2        1.125      4.5\n",
            "  1.75       0.33333333 0.16666667]]\n"
          ]
        }
      ]
    },
    {
      "cell_type": "code",
      "source": [
        "#Завдання 13 Створіть дві матриці розміром 9x9, заповніть їх випадковими цілими числами в діапазоні від 1 до 5 та знайдіть їх добуток\n",
        "import numpy as np\n",
        "matrix_1 = np.random.randint(1, 6, (9, 9))\n",
        "matrix_2 = np.random.randint(1, 6, (9, 9))\n",
        "result = np.dot(matrix_1, matrix_2)\n",
        "print(matrix_1)\n",
        "print(matrix_2)\n",
        "print(result)"
      ],
      "metadata": {
        "colab": {
          "base_uri": "https://localhost:8080/"
        },
        "id": "tSXJ625zXNHl",
        "outputId": "3dacff28-c085-4702-d921-d39f4de643a0"
      },
      "execution_count": 10,
      "outputs": [
        {
          "output_type": "stream",
          "name": "stdout",
          "text": [
            "[[3 3 3 4 4 2 4 4 5]\n",
            " [1 2 5 5 3 2 1 4 5]\n",
            " [3 5 3 1 5 2 4 5 1]\n",
            " [4 5 5 5 1 4 2 3 2]\n",
            " [4 5 3 1 5 5 4 4 3]\n",
            " [1 1 3 4 3 2 4 3 3]\n",
            " [2 4 1 2 3 5 4 5 3]\n",
            " [1 1 4 1 5 1 1 2 3]\n",
            " [1 1 5 3 1 4 4 4 5]]\n",
            "[[3 2 2 2 5 3 3 1 4]\n",
            " [2 1 5 2 2 2 4 1 2]\n",
            " [4 3 2 3 5 4 3 2 4]\n",
            " [2 4 2 2 1 5 1 3 5]\n",
            " [1 3 3 3 5 5 5 5 2]\n",
            " [2 2 5 4 2 3 1 3 3]\n",
            " [3 1 1 1 2 5 3 4 2]\n",
            " [1 4 4 2 5 2 3 3 4]\n",
            " [3 1 2 4 4 2 5 2 3]]\n",
            "[[ 74  75  87  81 112 111 105  88 103]\n",
            " [ 66  74  78  77 100  96  88  75  98]\n",
            " [ 62  68  90  68 107  99  98  81  86]\n",
            " [ 76  75  94  78 100 104  86  72 107]\n",
            " [ 76  74 107  88 121 113 111  92 101]\n",
            " [ 56  60  62  60  80  90  73  72  79]\n",
            " [ 61  65  94  74  95  94  89  81  88]\n",
            " [ 44  48  52  54  79  69  70  57  59]\n",
            " [ 71  66  76  76  96  95  83  76  94]]\n"
          ]
        }
      ]
    },
    {
      "cell_type": "code",
      "source": [
        "#Завдання 14 Створіть матрицю розміром 3x3, заповніть її випадковими цілими числами в діапазоні від -5 до 5 та знайдіть середнє арифметичне значення елементів матриці\n",
        "import numpy as np\n",
        "matrix = np.random.randint(-5, 6, (3, 3))\n",
        "mean_value = np.mean(matrix)\n",
        "print(matrix)\n",
        "print(mean_value)\n"
      ],
      "metadata": {
        "colab": {
          "base_uri": "https://localhost:8080/"
        },
        "id": "BfgtIWFrXWYT",
        "outputId": "2f4fcb8a-c6a7-42e2-c377-1a5f45beba0b"
      },
      "execution_count": 11,
      "outputs": [
        {
          "output_type": "stream",
          "name": "stdout",
          "text": [
            "[[ 4 -4 -2]\n",
            " [ 0 -4  1]\n",
            " [ 4 -4 -3]]\n",
            "-0.8888888888888888\n"
          ]
        }
      ]
    },
    {
      "cell_type": "code",
      "source": [
        "#Завдання 15 Створіть матрицю розміром 10x10, заповніть її випадковими дійсними числами в діапазоні від -2 до 2 та знайдіть вектор-стовпчик, що містить найменше за модулем\n",
        "#значення елементу у кожному рядку матриці.\n",
        "import numpy as np\n",
        "matrix = np.random.uniform(-2, 2, (10, 10))\n",
        "min_abs_values = np.min(np.abs(matrix), axis=1)\n",
        "print(matrix)\n",
        "print(min_abs_values)\n"
      ],
      "metadata": {
        "colab": {
          "base_uri": "https://localhost:8080/"
        },
        "id": "WR3RCT6EXl-I",
        "outputId": "6b4c13c0-287d-4f55-f044-dca4756266c4"
      },
      "execution_count": 12,
      "outputs": [
        {
          "output_type": "stream",
          "name": "stdout",
          "text": [
            "[[ 1.13228893  1.08135336  0.08620744  1.96810447 -1.54588425  0.94921724\n",
            "  -0.4511118   0.05894896  0.28168109 -0.97079411]\n",
            " [-1.4320512  -0.83306038 -0.50852635  1.31613894 -0.57767238  0.35922936\n",
            "   1.46614245  1.30564375  1.84129186  1.35889242]\n",
            " [-1.05912296 -0.40493505  0.48706389 -1.62362366 -0.32536418 -0.78966721\n",
            "  -0.17567849  0.25277948 -1.09694268 -1.08526387]\n",
            " [ 0.33636743 -0.06197914 -1.34075026  1.17145945  0.2425957   1.94498675\n",
            "   1.72654691  1.57670783  0.37108106 -0.14408598]\n",
            " [-1.18307167  0.84115997 -0.1008513  -1.87891163  0.63153997 -1.58915611\n",
            "  -1.65317695 -0.16569783  1.23397937  0.25635788]\n",
            " [-0.68818845 -0.92644238 -0.69877923 -1.58490607  0.6144456   0.67763339\n",
            "   1.5284746  -1.46811494  0.3322089   1.17513371]\n",
            " [-0.51916932  0.77717837 -0.48433138  0.84947702  0.63189775  1.76429135\n",
            "   0.84658721  1.98260852 -1.18874271  1.90789645]\n",
            " [-0.30256337 -0.01244837 -0.62663009 -0.46862108  0.58983638 -1.66090721\n",
            "  -1.95814267 -0.58531273  0.82056503 -1.4530308 ]\n",
            " [-0.15035345 -0.45102267 -1.40953507 -1.56567294 -1.73923496 -1.72599131\n",
            "  -1.4881401   0.51797708 -1.64692471  0.1921011 ]\n",
            " [-0.25084026 -1.71675839  0.26563142  1.73148613  1.03436063 -1.10918483\n",
            "   1.15685976 -1.10333055 -1.31049504 -0.58709085]]\n",
            "[0.05894896 0.35922936 0.17567849 0.06197914 0.1008513  0.3322089\n",
            " 0.48433138 0.01244837 0.15035345 0.25084026]\n"
          ]
        }
      ]
    }
  ]
}